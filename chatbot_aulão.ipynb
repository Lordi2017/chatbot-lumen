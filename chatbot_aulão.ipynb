{
  "nbformat": 4,
  "nbformat_minor": 0,
  "metadata": {
    "colab": {
      "provenance": [],
      "authorship_tag": "ABX9TyMG8lcc0ZA5fofG1P4dUyOQ",
      "include_colab_link": true
    },
    "kernelspec": {
      "name": "python3",
      "display_name": "Python 3"
    },
    "language_info": {
      "name": "python"
    }
  },
  "cells": [
    {
      "cell_type": "markdown",
      "metadata": {
        "id": "view-in-github",
        "colab_type": "text"
      },
      "source": [
        "<a href=\"https://colab.research.google.com/github/Lordi2017/chatbot-lumen/blob/main/chatbot_aul%C3%A3o.ipynb\" target=\"_parent\"><img src=\"https://colab.research.google.com/assets/colab-badge.svg\" alt=\"Open In Colab\"/></a>"
      ]
    },
    {
      "cell_type": "code",
      "source": [
        "#Instalando o SDK do Google\n",
        "!pip install -q -U google-generativeai\n",
        "\n",
        "#Configurações iniciais\n",
        "import google.generativeai as genai\n",
        "from google.colab import userdata\n",
        "api_key = userdata.get('SECRET_KEY')\n",
        "\n",
        "GOOGLE_API_KEY=\"SECRET_KEY\" # Substitua pela sua chave\n",
        "genai.configure(api_key=api_key)\n",
        "\n",
        "generation_config = {\n",
        "  \"candidate_count\": 1,\n",
        "  \"temperature\": 0.5,\n",
        "}\n",
        "\n",
        "model = genai.GenerativeModel(model_name='gemini-1.0-pro',\n",
        "                                  generation_config=generation_config)\n",
        "\n",
        "# Banco de dados de palavras-chave relacionadas à astronomia (expanda conforme necessário)\n",
        "palavras_chave_astronomia = [\"planeta\", \"estrela\", \"galáxia\", \"universo\", \"telescópio\",\n",
        "                              \"cometa\", \"asteróide\", \"lua\", \"sol\", \"nebulosa\", \"constelação\",\n",
        "                              \"astrofísica\", \"cosmologia\", \"espaço\", \"gravidade\", \"satélite\", \"órbita\"]\n",
        "\n",
        "def verificar_pergunta_astronomia(pergunta):\n",
        "  \"\"\"Verifica se a pergunta está relacionada à astronomia.\n",
        "\n",
        "  Args:\n",
        "    pergunta: A pergunta do usuário.\n",
        "\n",
        "  Returns:\n",
        "    True se a pergunta for relacionada à astronomia, False caso contrário.\n",
        "  \"\"\"\n",
        "  pergunta = pergunta.lower()\n",
        "  for palavra in palavras_chave_astronomia:\n",
        "    if palavra in pergunta:\n",
        "      return True\n",
        "  return False\n",
        "\n",
        "chat = model.start_chat(history=[])\n",
        "\n",
        "prompt = input('Faça sua pergunta sobre Astronomia: ')\n",
        "\n",
        "while prompt != \"fim\":\n",
        "  if verificar_pergunta_astronomia(prompt):\n",
        "    response = chat.send_message(prompt)\n",
        "    print(\"Resposta:\", response.text, '\\n\\n')\n",
        "  else:\n",
        "    print(\"Desculpe, este site é dedicado à astronomia. Por favor, faça uma pergunta sobre esse tema.\", '\\n\\n')\n",
        "  prompt = input('Faça sua pergunta sobre Astronomia: ')\n",
        "\n",
        "#Melhorando a visualização\n",
        "\n",
        "import textwrap\n",
        "from IPython.display import display\n",
        "from IPython.display import Markdown\n",
        "\n",
        "def to_markdown(text):\n",
        "  text = text.replace('•', '  *')\n",
        "  return Markdown(textwrap.indent(text, '> ', predicate=lambda _: True))\n",
        "\n",
        "#Imprimindo o histórico\n",
        "for message in chat.history:\n",
        "  display(to_markdown(f'**{message.role}**: {message.parts[0].text}'))\n",
        "  print('-------------------------------------------')"
      ],
      "metadata": {
        "id": "221us228iKUK",
        "outputId": "a3b29cf1-1899-4f94-eeaf-ed4ea9f77789",
        "colab": {
          "base_uri": "https://localhost:8080/",
          "height": 1000
        }
      },
      "execution_count": 3,
      "outputs": [
        {
          "output_type": "stream",
          "name": "stdout",
          "text": [
            "Faça sua pergunta sobre Astronomia: Sol\n",
            "Resposta: **Sol**\n",
            "\n",
            "**Características:**\n",
            "\n",
            "* **Tipo:** Estrella de secuencia principal de tipo G\n",
            "* **Clase:** V\n",
            "* **Temperatura superficial:** 5.778 K (5.505 °C)\n",
            "* **Radio:** 696.342 km (109 veces el de la Tierra)\n",
            "* **Masa:** 1,9891 × 10^30 kg (330.000 veces la de la Tierra)\n",
            "* **Luminosidad:** 3,828 × 10^26 W (400 billones de veces la del Sol)\n",
            "* **Edad:** 4.603 mil millones de años\n",
            "\n",
            "**Composición:**\n",
            "\n",
            "* Hidrógeno (71%)\n",
            "* Helio (27%)\n",
            "* Otros elementos (2%)\n",
            "\n",
            "**Características orbitales:**\n",
            "\n",
            "* **Excentricidad:** 0,0167\n",
            "* **Periodo orbital:** 225 millones de años\n",
            "* **Velocidad orbital:** 220 km/s\n",
            "\n",
            "**Características de la zona habitable:**\n",
            "\n",
            "* **Zona habitable interna:** 0,72 UA\n",
            "* **Zona habitable externa:** 1,52 UA\n",
            "\n",
            "**Importancia:**\n",
            "\n",
            "* El Sol es la fuente de vida en la Tierra.\n",
            "* Proporciona luz, calor y energía para todos los organismos vivos.\n",
            "* Influye en el clima, los patrones climáticos y las mareas.\n",
            "* Es el centro de nuestro sistema solar y mantiene los planetas en sus órbitas.\n",
            "\n",
            "**Ciclo de vida:**\n",
            "\n",
            "* **Actual:** Secuencia principal\n",
            "* **Futuro:** Gigante roja, rama horizontal, nebulosa planetaria, enana blanca\n",
            "\n",
            "**Datos curiosos:**\n",
            "\n",
            "* El Sol tarda unos 8 minutos en llegar a la Tierra.\n",
            "* El Sol es una estrella relativamente joven.\n",
            "* El Sol está en la Vía Láctea, una galaxia espiral barrada.\n",
            "* El Sol tiene un campo magnético que crea tormentas solares y auroras boreales.\n",
            "* El Sol tiene un ciclo de actividad de 11 años. \n",
            "\n",
            "\n"
          ]
        },
        {
          "output_type": "error",
          "ename": "KeyboardInterrupt",
          "evalue": "Interrupted by user",
          "traceback": [
            "\u001b[0;31m---------------------------------------------------------------------------\u001b[0m",
            "\u001b[0;31mKeyboardInterrupt\u001b[0m                         Traceback (most recent call last)",
            "\u001b[0;32m<ipython-input-3-ff6f59a061ad>\u001b[0m in \u001b[0;36m<cell line: 44>\u001b[0;34m()\u001b[0m\n\u001b[1;32m     48\u001b[0m   \u001b[0;32melse\u001b[0m\u001b[0;34m:\u001b[0m\u001b[0;34m\u001b[0m\u001b[0;34m\u001b[0m\u001b[0m\n\u001b[1;32m     49\u001b[0m     \u001b[0mprint\u001b[0m\u001b[0;34m(\u001b[0m\u001b[0;34m\"Desculpe, este site é dedicado à astronomia. Por favor, faça uma pergunta sobre esse tema.\"\u001b[0m\u001b[0;34m,\u001b[0m \u001b[0;34m'\\n\\n'\u001b[0m\u001b[0;34m)\u001b[0m\u001b[0;34m\u001b[0m\u001b[0;34m\u001b[0m\u001b[0m\n\u001b[0;32m---> 50\u001b[0;31m   \u001b[0mprompt\u001b[0m \u001b[0;34m=\u001b[0m \u001b[0minput\u001b[0m\u001b[0;34m(\u001b[0m\u001b[0;34m'Faça sua pergunta sobre Astronomia: '\u001b[0m\u001b[0;34m)\u001b[0m\u001b[0;34m\u001b[0m\u001b[0;34m\u001b[0m\u001b[0m\n\u001b[0m\u001b[1;32m     51\u001b[0m \u001b[0;34m\u001b[0m\u001b[0m\n\u001b[1;32m     52\u001b[0m \u001b[0;31m#Melhorando a visualização\u001b[0m\u001b[0;34m\u001b[0m\u001b[0;34m\u001b[0m\u001b[0m\n",
            "\u001b[0;32m/usr/local/lib/python3.10/dist-packages/ipykernel/kernelbase.py\u001b[0m in \u001b[0;36mraw_input\u001b[0;34m(self, prompt)\u001b[0m\n\u001b[1;32m    849\u001b[0m                 \u001b[0;34m\"raw_input was called, but this frontend does not support input requests.\"\u001b[0m\u001b[0;34m\u001b[0m\u001b[0;34m\u001b[0m\u001b[0m\n\u001b[1;32m    850\u001b[0m             )\n\u001b[0;32m--> 851\u001b[0;31m         return self._input_request(str(prompt),\n\u001b[0m\u001b[1;32m    852\u001b[0m             \u001b[0mself\u001b[0m\u001b[0;34m.\u001b[0m\u001b[0m_parent_ident\u001b[0m\u001b[0;34m,\u001b[0m\u001b[0;34m\u001b[0m\u001b[0;34m\u001b[0m\u001b[0m\n\u001b[1;32m    853\u001b[0m             \u001b[0mself\u001b[0m\u001b[0;34m.\u001b[0m\u001b[0m_parent_header\u001b[0m\u001b[0;34m,\u001b[0m\u001b[0;34m\u001b[0m\u001b[0;34m\u001b[0m\u001b[0m\n",
            "\u001b[0;32m/usr/local/lib/python3.10/dist-packages/ipykernel/kernelbase.py\u001b[0m in \u001b[0;36m_input_request\u001b[0;34m(self, prompt, ident, parent, password)\u001b[0m\n\u001b[1;32m    893\u001b[0m             \u001b[0;32mexcept\u001b[0m \u001b[0mKeyboardInterrupt\u001b[0m\u001b[0;34m:\u001b[0m\u001b[0;34m\u001b[0m\u001b[0;34m\u001b[0m\u001b[0m\n\u001b[1;32m    894\u001b[0m                 \u001b[0;31m# re-raise KeyboardInterrupt, to truncate traceback\u001b[0m\u001b[0;34m\u001b[0m\u001b[0;34m\u001b[0m\u001b[0m\n\u001b[0;32m--> 895\u001b[0;31m                 \u001b[0;32mraise\u001b[0m \u001b[0mKeyboardInterrupt\u001b[0m\u001b[0;34m(\u001b[0m\u001b[0;34m\"Interrupted by user\"\u001b[0m\u001b[0;34m)\u001b[0m \u001b[0;32mfrom\u001b[0m \u001b[0;32mNone\u001b[0m\u001b[0;34m\u001b[0m\u001b[0;34m\u001b[0m\u001b[0m\n\u001b[0m\u001b[1;32m    896\u001b[0m             \u001b[0;32mexcept\u001b[0m \u001b[0mException\u001b[0m \u001b[0;32mas\u001b[0m \u001b[0me\u001b[0m\u001b[0;34m:\u001b[0m\u001b[0;34m\u001b[0m\u001b[0;34m\u001b[0m\u001b[0m\n\u001b[1;32m    897\u001b[0m                 \u001b[0mself\u001b[0m\u001b[0;34m.\u001b[0m\u001b[0mlog\u001b[0m\u001b[0;34m.\u001b[0m\u001b[0mwarning\u001b[0m\u001b[0;34m(\u001b[0m\u001b[0;34m\"Invalid Message:\"\u001b[0m\u001b[0;34m,\u001b[0m \u001b[0mexc_info\u001b[0m\u001b[0;34m=\u001b[0m\u001b[0;32mTrue\u001b[0m\u001b[0;34m)\u001b[0m\u001b[0;34m\u001b[0m\u001b[0;34m\u001b[0m\u001b[0m\n",
            "\u001b[0;31mKeyboardInterrupt\u001b[0m: Interrupted by user"
          ]
        }
      ]
    }
  ]
}